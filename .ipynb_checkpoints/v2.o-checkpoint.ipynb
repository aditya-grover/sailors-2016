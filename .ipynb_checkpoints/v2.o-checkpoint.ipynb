{
 "cells": [
  {
   "cell_type": "code",
   "execution_count": 1,
   "metadata": {
    "collapsed": true
   },
   "outputs": [],
   "source": [
    "%matplotlib inline\n",
    "import numpy as np\n",
    "import random\n",
    "import matplotlib.pyplot as plt\n",
    "sd = 0\n",
    "random.seed(sd)\n",
    "np.random.seed(sd)"
   ]
  },
  {
   "cell_type": "code",
   "execution_count": 2,
   "metadata": {
    "collapsed": true
   },
   "outputs": [],
   "source": [
    "K = 5\n",
    "N = 1000"
   ]
  },
  {
   "cell_type": "code",
   "execution_count": 10,
   "metadata": {
    "collapsed": true
   },
   "outputs": [],
   "source": [
    "def find_centers(X, K):\n",
    "        '''\n",
    "        Run k-means algorithm.\n",
    "        '''\n",
    "        \n",
    "        print 'k-means begins!'\n",
    "        it = 1\n",
    "        \n",
    "        print 'Initial layout of points'\n",
    "        self.plot_board()\n",
    "        print '*'*30\n",
    "        \n",
    "        oldmu = random.sample(X, K)\n",
    "        \n",
    "        print 'Step 0: Initialize cluster centers randomly.'\n",
    "        '''\n",
    "        TODO 1: Initialize the cluster centers as K random points.\n",
    "        Hint: The assignment of self.mu will be similar to the assignment of self.oldmu above.\n",
    "        '''\n",
    "        mu = random.sample(X, K)\n",
    "        \n",
    "        while not has_converged(oldmu, mu):\n",
    "            \n",
    "            oldmu = mu\n",
    "            self.plot_board()\n",
    "            print '*'*30\n",
    "            \n",
    "            print 'Iteration:', it\n",
    "            \n",
    "            print 'Step 1: Assign clusters'\n",
    "            '''\n",
    "            TODO 2: Assign points to the closest center.\n",
    "            '''\n",
    "            clusters = cluster_points(mu)\n",
    "            self.plot_board()\n",
    "            \n",
    "            print 'Step 2: Re-evaluate centers'\n",
    "            '''\n",
    "            TODO 3: Compute the centers of each cluster.\n",
    "            '''\n",
    "            mu = reevaluate_centers(clusters)\n",
    "            \n",
    "            it += 1\n",
    "            \n",
    "        print 'k-means has converged!'\n",
    "        self.plot_board()"
   ]
  },
  {
   "cell_type": "code",
   "execution_count": 5,
   "metadata": {
    "collapsed": true
   },
   "outputs": [],
   "source": [
    "def has_converged(oldmu, mu):\n",
    "    '''\n",
    "    Check if k-means has converged i.e. there is no change in \n",
    "    cluster assignment from last iteration to current iteration.\n",
    "    '''\n",
    "    K = len(oldmu)\n",
    "    return(set([tuple(a) for a in mu]) == \\\n",
    "           set([tuple(a) for a in oldmu])\\\n",
    "           and len(set([tuple(a) for a in mu])) == K)"
   ]
  },
  {
   "cell_type": "code",
   "execution_count": 9,
   "metadata": {
    "collapsed": true
   },
   "outputs": [],
   "source": [
    "def reevaluate_centers(clusters):\n",
    "    '''\n",
    "    Compute the centers of each cluster.\n",
    "    '''\n",
    "    newmu = []\n",
    "    keys = sorted(clusters.keys())\n",
    "    for k in keys:\n",
    "        newmu.append(np.mean(clusters[k], axis = 0))\n",
    "    return newmu"
   ]
  },
  {
   "cell_type": "code",
   "execution_count": null,
   "metadata": {
    "collapsed": true
   },
   "outputs": [],
   "source": [
    "def cluster_points(mu, X):\n",
    "    '''\n",
    "    Assign points to the closest cluster center.\n",
    "    '''\n",
    "    clusters  = {}\n",
    "    for x in X:\n",
    "        bestmukey = min([(i[0], np.linalg.norm(x-mu[i[0]])) \\\n",
    "                         for i in enumerate(mu)], key=lambda t:t[1])[0]\n",
    "        try:\n",
    "            clusters[bestmukey].append(x)\n",
    "        except KeyError:\n",
    "            clusters[bestmukey] = [x]\n",
    "    self.clusters = clusters"
   ]
  }
 ],
 "metadata": {
  "kernelspec": {
   "display_name": "Python 2",
   "language": "python",
   "name": "python2"
  },
  "language_info": {
   "codemirror_mode": {
    "name": "ipython",
    "version": 2
   },
   "file_extension": ".py",
   "mimetype": "text/x-python",
   "name": "python",
   "nbconvert_exporter": "python",
   "pygments_lexer": "ipython2",
   "version": "2.7.11"
  }
 },
 "nbformat": 4,
 "nbformat_minor": 0
}
