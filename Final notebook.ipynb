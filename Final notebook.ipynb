{
 "cells": [
  {
   "cell_type": "code",
   "execution_count": 1,
   "metadata": {
    "collapsed": true
   },
   "outputs": [],
   "source": [
    "%matplotlib inline\n",
    "import numpy as np\n",
    "import random\n",
    "import matplotlib.pyplot as plt\n",
    "sd = 0\n",
    "random.seed(sd)\n",
    "np.random.seed(sd)"
   ]
  },
  {
   "cell_type": "code",
   "execution_count": 2,
   "metadata": {
    "collapsed": true
   },
   "outputs": [],
   "source": [
    "def init_board_gauss(N, k):\n",
    "    '''\n",
    "    Generate points centered around k Gaussians.\n",
    "    '''\n",
    "    n = float(N)/k\n",
    "    X = []\n",
    "    for i in range(k):\n",
    "        c = (random.uniform(-1,1), random.uniform(-1,1))\n",
    "        s = random.uniform(0.05,0.15)\n",
    "        x = []\n",
    "        while len(x) < n:\n",
    "            a,b = np.array([np.random.normal(c[0],s),np.random.normal(c[1],s)])\n",
    "            if abs(a) and abs(b)<1:\n",
    "                x.append([a,b])\n",
    "        X.extend(x)\n",
    "    X = np.array(X)[:N]\n",
    "    return X"
   ]
  },
  {
   "cell_type": "code",
   "execution_count": 3,
   "metadata": {
    "collapsed": true
   },
   "outputs": [],
   "source": [
    "def has_converged(oldmu, mu):\n",
    "    '''\n",
    "    Check if k-means has converged i.e. there is no change in \n",
    "    cluster assignment from last iteration to current iteration.\n",
    "    '''\n",
    "    K = len(oldmu)\n",
    "    return(set([tuple(a) for a in mu]) == \\\n",
    "           set([tuple(a) for a in oldmu])\\\n",
    "           and len(set([tuple(a) for a in mu])) == K)"
   ]
  },
  {
   "cell_type": "code",
   "execution_count": 4,
   "metadata": {
    "collapsed": true
   },
   "outputs": [],
   "source": [
    "def reevaluate_centers(clusters):\n",
    "    '''\n",
    "    Compute the centers of each cluster.\n",
    "    '''\n",
    "    newmu = []\n",
    "    keys = sorted(clusters.keys())\n",
    "    for k in keys:\n",
    "        newmu.append(np.mean(clusters[k], axis = 0))\n",
    "    return newmu"
   ]
  },
  {
   "cell_type": "code",
   "execution_count": 5,
   "metadata": {
    "collapsed": true
   },
   "outputs": [],
   "source": [
    "def cluster_points(X, mu):\n",
    "    '''\n",
    "    Assign points to the closest cluster center.\n",
    "    '''\n",
    "    clusters  = {}\n",
    "    for x in X:\n",
    "        bestmukey = min([(i[0], np.linalg.norm(x-mu[i[0]])) \\\n",
    "                         for i in enumerate(mu)], key=lambda t:t[1])[0]\n",
    "        try:\n",
    "            clusters[bestmukey].append(x)\n",
    "        except KeyError:\n",
    "            clusters[bestmukey] = [x]\n",
    "    return clusters"
   ]
  },
  {
   "cell_type": "code",
   "execution_count": 6,
   "metadata": {
    "collapsed": true
   },
   "outputs": [],
   "source": [
    "def plot_board(X, K, mu=None, clus=None):\n",
    "        '''\n",
    "        Visualize the points in 2D.\n",
    "        '''\n",
    "        fig = plt.figure(figsize=(5,5))\n",
    "        plt.xlim(-1,1)\n",
    "        plt.ylim(-1,1)\n",
    "        \n",
    "        mew = 1\n",
    "        if mu and clus:\n",
    "            for m, clu in clus.items():\n",
    "                cs = plt.cm.spectral(1.*m/K)\n",
    "                plt.plot(mu[m][0], mu[m][1], 'o', marker='*', \\\n",
    "                         markersize=12, color=cs, mew=mew)\n",
    "                plt.plot(zip(*clus[m])[0], zip(*clus[m])[1], '.', \\\n",
    "                         markersize=8, color=cs, alpha=0.5)\n",
    "        elif mu:\n",
    "            plt.plot(zip(*X)[0], zip(*X)[1], '.', alpha=0.5)\n",
    "            for (m, ctr) in enumerate(mu):\n",
    "                cs = plt.cm.spectral(1.*m/K)\n",
    "                plt.plot(ctr[0], ctr[1], 'o', marker='*', \\\n",
    "                         markersize=12, color=cs, mew=mew)\n",
    "        else:\n",
    "            plt.plot(zip(*X)[0], zip(*X)[1], '.', alpha=0.5)\n",
    "        \n",
    "        tit = 'K-means with random initialization'\n",
    "        # plt.title('\\n'.join([pars, tit]), fontsize=16)\n",
    "        plt.show()\n",
    "        plt.close()"
   ]
  },
  {
   "cell_type": "code",
   "execution_count": 7,
   "metadata": {
    "collapsed": true
   },
   "outputs": [],
   "source": [
    "'''\n",
    "TODO 0: Set K and N as per your choice. (Make sure 0<K<N!)\n",
    "'''\n",
    "K = 5\n",
    "N = 1000"
   ]
  },
  {
   "cell_type": "code",
   "execution_count": 8,
   "metadata": {
    "collapsed": true
   },
   "outputs": [],
   "source": [
    "X = init_board_gauss(N, K)"
   ]
  },
  {
   "cell_type": "code",
   "execution_count": 9,
   "metadata": {
    "collapsed": true
   },
   "outputs": [],
   "source": [
    "def find_centers(X, K):\n",
    "        '''\n",
    "        Run k-means algorithm.\n",
    "        '''\n",
    "        mu = None\n",
    "        clusters = None\n",
    "        print 'k-means begins!'\n",
    "        it = 1\n",
    "        \n",
    "        print 'Initial layout of points'\n",
    "        plot_board(X, K, mu, clusters)\n",
    "        print '*'*30\n",
    "        \n",
    "        oldmu = random.sample(X, K)\n",
    "        \n",
    "        print 'Step 0: Initialize cluster centers randomly.'\n",
    "        '''\n",
    "        TODO 1: Initialize the cluster centers as K random points.\n",
    "        Hint: The assignment of mu will be similar to the assignment of oldmu above.\n",
    "        '''\n",
    "        mu = random.sample(X, K)\n",
    "        \n",
    "        while not has_converged(oldmu, mu):\n",
    "            \n",
    "            oldmu = mu\n",
    "            plot_board(X, K, mu, clusters)\n",
    "            print '*'*30\n",
    "            \n",
    "            print 'Iteration:', it\n",
    "            \n",
    "            print 'Step 1: Assign clusters'\n",
    "            '''\n",
    "            TODO 2: Assign points to the closest center.\n",
    "            '''\n",
    "            clusters = cluster_points(X, mu)\n",
    "            plot_board(X, K, mu, clusters)\n",
    "            \n",
    "            print 'Step 2: Re-evaluate centers'\n",
    "            '''\n",
    "            TODO 3: Compute the centers of each cluster.\n",
    "            '''\n",
    "            mu = reevaluate_centers(clusters)\n",
    "            \n",
    "            it += 1\n",
    "            \n",
    "        print 'k-means has converged!'\n",
    "        plot_board(X, K, mu, clusters)"
   ]
  },
  {
   "cell_type": "code",
   "execution_count": null,
   "metadata": {
    "collapsed": true
   },
   "outputs": [],
   "source": []
  }
 ],
 "metadata": {
  "kernelspec": {
   "display_name": "Python 2",
   "language": "python",
   "name": "python2"
  },
  "language_info": {
   "codemirror_mode": {
    "name": "ipython",
    "version": 2
   },
   "file_extension": ".py",
   "mimetype": "text/x-python",
   "name": "python",
   "nbconvert_exporter": "python",
   "pygments_lexer": "ipython2",
   "version": "2.7.11"
  }
 },
 "nbformat": 4,
 "nbformat_minor": 0
}
